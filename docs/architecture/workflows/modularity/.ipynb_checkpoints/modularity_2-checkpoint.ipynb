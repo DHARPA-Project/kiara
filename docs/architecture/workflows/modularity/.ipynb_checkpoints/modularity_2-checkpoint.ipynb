{
 "cells": [
  {
   "cell_type": "code",
   "execution_count": 1,
   "metadata": {
    "slideshow": {
     "slide_type": "skip"
    }
   },
   "outputs": [
    {
     "data": {
      "application/javascript": [
       "IPython.notebook.set_autosave_interval(0)"
      ]
     },
     "metadata": {},
     "output_type": "display_data"
    },
    {
     "name": "stdout",
     "output_type": "stream",
     "text": [
      "Autosave disabled\n"
     ]
    }
   ],
   "source": [
    "%autosave 0\n",
    "\n",
    "import os\n",
    "from rich.jupyter import print\n",
    "from dharpa_toolbox.modules.utils import list_available_module_names, describe_module, print_module_desc, load_workflows, create_module, create_workflow\n",
    "from dharpa_toolbox.utils import print_file_content, graph_to_image\n",
    "from dharpa_toolbox.modules.workflows import DharpaWorkflow\n",
    "from dharpa_toolbox.rendering.jupyter.renderer import PlainJupyterWorkflowRenderer, ModuleJupyterWorkflowRenderer\n",
    "\n",
    "base_path = os.path.abspath(\".\")\n"
   ]
  },
  {
   "cell_type": "markdown",
   "metadata": {
    "pycharm": {
     "name": "#%% md\n"
    },
    "slideshow": {
     "slide_type": "slide"
    }
   },
   "source": [
    "## What's a workflow?\n",
    "\n",
    "- a workflow is a tool to transform data into more structured data\n",
    "  - 'more data' -- we'll create what can be considered 'new' data out of the existing set\n",
    "  - 'better structured' -- improve (and replace) the current structure (fix errors, etc.)\n",
    "  - 'more structure' -- augment existing data with additional structure\n",
    "  - secondary outcomes (insight, new research questions, etc...)\n",
    "- workflows are 'just' simple scripts\n",
    "  - no or only very minimal control structures, except from input/output connections\n",
    "  - low computational complexity for the workflow itself\n",
    "  - high(er) computational complexity within modules (but hidden from workflow creator)\n"
   ]
  },
  {
   "cell_type": "markdown",
   "metadata": {
    "pycharm": {
     "name": "#%% md\n"
    },
    "slideshow": {
     "slide_type": "slide"
    }
   },
   "source": [
    "## Workflows in our context\n",
    "\n",
    "- Jupyter is a very good tool to create non-trivial exploratory workflows\n",
    "- there's a difference between 'dynamic' workflows, and 'static' ones\n",
    "- Jupyter is usually used to create workflows in a 'dynamic' way\n",
    "- more 'data engineering' than 'data science'\n",
    "- interactivity:\n",
    "   - not an issue in 'data engineering'\n",
    "   - not very well supported in Jupyter (cell-based approach not useful for us)\n"
   ]
  },
  {
   "cell_type": "markdown",
   "metadata": {
    "pycharm": {
     "name": "#%% md\n"
    },
    "slideshow": {
     "slide_type": "slide"
    }
   },
   "source": [
    "## Two options: monolithic & modular\n",
    "\n",
    "### Monolithic\n",
    "\n",
    " - well integrated, no restrictions UI-wise\n",
    " - complexity spread out across the workflow\n",
    "\n",
    "### Modular\n",
    "\n",
    " - complexity concentrated in the framework, but simple modules\n",
    " - some restrictions on the UI\n",
    "\n",
    "## Suggested approach\n",
    "\n",
    " - 100% modular backend\n",
    " - modular frontend, incl. optional monolithic frontend approach for high-value workflows"
   ]
  },
  {
   "cell_type": "markdown",
   "metadata": {
    "pycharm": {
     "name": "#%% md\n"
    },
    "slideshow": {
     "slide_type": "notes"
    }
   },
   "source": [
    "Notes:\n",
    "\n",
    " - only important for the workflow part, there will be features that won't be affected by this at all (metadata, data)"
   ]
  },
  {
   "cell_type": "markdown",
   "metadata": {
    "pycharm": {
     "name": "#%% md\n"
    },
    "slideshow": {
     "slide_type": "slide"
    }
   },
   "source": [
    "### Definitions\n",
    "\n",
    "- ***module***:\n",
    "   - a module is an atomic entity that contains a fixed set of defined inputs and outputs,\n",
    "   - as well as a processing unit that converts the set of inputs to outputs, in a predicable way\n",
    "\n",
    "- ***workflow***:\n",
    "   - a workflow contains a set of modules which are connected in a specific way\n",
    "   - a workflow is conceptually also a module, because it also contains a set of inputs/outputs as well as processing unit\n",
    "   - it can be used in other, 'parent' workflows in the same ways a normal module can.\n"
   ]
  },
  {
   "cell_type": "markdown",
   "metadata": {
    "pycharm": {
     "name": "#%% md\n"
    },
    "slideshow": {
     "slide_type": "slide"
    }
   },
   "source": [
    "## Modelling workflows\n",
    "\n",
    "- research data is more useful when it's structured, so why would workflow definitions be different?\n",
    "- so: can we model a workflow as data?"
   ]
  },
  {
   "cell_type": "markdown",
   "metadata": {
    "pycharm": {
     "name": "#%% md\n"
    },
    "slideshow": {
     "slide_type": "notes"
    }
   },
   "source": [
    "Notes:\n",
    "\n",
    "- monolithic workflows are not structured (comparison:"
   ]
  },
  {
   "cell_type": "markdown",
   "metadata": {
    "pycharm": {
     "name": "#%% md\n"
    },
    "slideshow": {
     "slide_type": "notes"
    }
   },
   "source": [
    "## Advantages\n",
    "\n",
    " - scalability\n",
    " - disposible middleware and frontends (only important to be able to use the created workflows)\n"
   ]
  },
  {
   "cell_type": "markdown",
   "metadata": {
    "pycharm": {
     "name": "#%% md\n"
    },
    "slideshow": {
     "slide_type": "slide"
    }
   },
   "source": [
    "# Examples"
   ]
  },
  {
   "cell_type": "code",
   "execution_count": 2,
   "metadata": {
    "pycharm": {
     "name": "#%%\n"
    },
    "slideshow": {
     "slide_type": "slide"
    }
   },
   "outputs": [
    {
     "data": {
      "text/plain": [
       "['dharpa_workflow',\n",
       " 'file_reader',\n",
       " 'lowercase_corpus',\n",
       " 'remove_stopwords_from_corpus',\n",
       " 'tokenize_corpus']"
      ]
     },
     "execution_count": 2,
     "metadata": {},
     "output_type": "execute_result"
    }
   ],
   "source": [
    "# we can list all available modules (and workflows)\n",
    "list_available_module_names()"
   ]
  },
  {
   "cell_type": "code",
   "execution_count": 3,
   "metadata": {
    "slideshow": {
     "slide_type": "subslide"
    }
   },
   "outputs": [
    {
     "data": {
      "text/html": [
       "<pre style=\"white-space:pre;overflow-x:auto;line-height:normal;font-family:Menlo,'DejaVu Sans Mono',consolas,'Courier New',monospace\"><span style=\"font-weight: bold\">{</span><span style=\"color: #008000\">'tokenize_corpus'</span>: <span style=\"font-weight: bold\">{</span><span style=\"color: #008000\">'inputs'</span>: <span style=\"font-weight: bold\">{</span><span style=\"color: #008000\">'text_map'</span>: <span style=\"color: #008000\">'Dict'</span><span style=\"font-weight: bold\">}</span>, <span style=\"color: #008000\">'outputs'</span>: <span style=\"font-weight: bold\">{</span><span style=\"color: #008000\">'tokenized_text'</span>: <span style=\"color: #008000\">'Dict'</span><span style=\"font-weight: bold\">}}}</span>\n",
       "</pre>\n"
      ],
      "text/plain": [
       "<rich.jupyter.JupyterRenderable at 0x7f954cffae50>"
      ]
     },
     "metadata": {},
     "output_type": "display_data"
    }
   ],
   "source": [
    "# we can investigate each modules inputs and output specs\n",
    "print_module_desc('tokenize_corpus')"
   ]
  },
  {
   "cell_type": "code",
   "execution_count": 4,
   "metadata": {
    "slideshow": {
     "slide_type": "slide"
    }
   },
   "outputs": [
    {
     "data": {
      "text/markdown": [
       "```yaml\n",
       "---\n",
       "modules:\n",
       "\n",
       "- type: tokenize_corpus\n",
       "\n",
       "- type: lowercase_corpus\n",
       "  input_map:\n",
       "    tokenized_text: tokenize_corpus.tokenized_text\n",
       "\n",
       "- type: remove_stopwords_from_corpus\n",
       "  input_map:\n",
       "    tokenized_text: lowercase_corpus.tokenized_text\n",
       "  workflow_outputs:\n",
       "    tokenized_text: processed_text_corpus\n",
       "```"
      ],
      "text/plain": [
       "<IPython.core.display.Markdown object>"
      ]
     },
     "metadata": {},
     "output_type": "display_data"
    }
   ],
   "source": [
    "# a workflow configuration is basically just a list of modules, incl. their input/output connections\n",
    "workflow_config = f'{base_path}/workflows/corpus_processing_simple.yaml'\n",
    "print_file_content(workflow_config)"
   ]
  },
  {
   "cell_type": "code",
   "execution_count": 5,
   "metadata": {
    "slideshow": {
     "slide_type": "slide"
    }
   },
   "outputs": [
    {
     "data": {
      "text/html": [
       "<pre style=\"white-space:pre;overflow-x:auto;line-height:normal;font-family:Menlo,'DejaVu Sans Mono',consolas,'Courier New',monospace\"><span style=\"font-weight: bold\">[</span>\n",
       "    <span style=\"color: #008000\">'lowercase_corpus__enabled'</span>,\n",
       "    <span style=\"color: #008000\">'remove_stopwords_from_corpus__enabled'</span>,\n",
       "    <span style=\"color: #008000\">'remove_stopwords_from_corpus__stopwords_list'</span>,\n",
       "    <span style=\"color: #008000\">'tokenize_corpus__text_map'</span>\n",
       "<span style=\"font-weight: bold\">]</span>\n",
       "</pre>\n"
      ],
      "text/plain": [
       "<rich.jupyter.JupyterRenderable at 0x7f954d17fa50>"
      ]
     },
     "metadata": {},
     "output_type": "display_data"
    }
   ],
   "source": [
    "# we create a 'workflow' object using the configuration data\n",
    "workflow = DharpaWorkflow.from_file(workflow_config)\n",
    "# we can investigate each workflows available input and output names\n",
    "print(workflow.input_names)"
   ]
  },
  {
   "cell_type": "code",
   "execution_count": 6,
   "metadata": {
    "slideshow": {
     "slide_type": "subslide"
    }
   },
   "outputs": [
    {
     "data": {
      "text/html": [
       "<pre style=\"white-space:pre;overflow-x:auto;line-height:normal;font-family:Menlo,'DejaVu Sans Mono',consolas,'Courier New',monospace\"><span style=\"font-weight: bold\">[</span><span style=\"color: #008000\">'processed_text_corpus'</span><span style=\"font-weight: bold\">]</span>\n",
       "</pre>\n"
      ],
      "text/plain": [
       "<rich.jupyter.JupyterRenderable at 0x7f95b0264710>"
      ]
     },
     "metadata": {},
     "output_type": "display_data"
    }
   ],
   "source": [
    "print(workflow.output_names)"
   ]
  },
  {
   "cell_type": "code",
   "execution_count": 7,
   "metadata": {
    "slideshow": {
     "slide_type": "slide"
    }
   },
   "outputs": [
    {
     "data": {
      "image/png": "[encoded data removed]",
      "text/plain": [
       "<IPython.core.display.Image object>"
      ]
     },
     "execution_count": 7,
     "metadata": {},
     "output_type": "execute_result"
    }
   ],
   "source": [
    "# we can display the execution and data-flow structures of a workflow graphically\n",
    "graph_to_image(workflow.execution_graph)\n",
    "# graph_to_image(workflow.data_flow_graph)"
   ]
  },
  {
   "cell_type": "code",
   "execution_count": 8,
   "metadata": {
    "slideshow": {
     "slide_type": "slide"
    }
   },
   "outputs": [
    {
     "data": {
      "text/html": [
       "<pre style=\"white-space:pre;overflow-x:auto;line-height:normal;font-family:Menlo,'DejaVu Sans Mono',consolas,'Courier New',monospace\"><span style=\"font-weight: bold\">{</span><span style=\"color: #008000\">'1'</span>: <span style=\"font-weight: bold\">[</span><span style=\"color: #008000\">'world'</span><span style=\"font-weight: bold\">]</span>, <span style=\"color: #008000\">'2'</span>: <span style=\"font-weight: bold\">[</span><span style=\"color: #008000\">'dharpa'</span><span style=\"font-weight: bold\">]}</span>\n",
       "</pre>\n"
      ],
      "text/plain": [
       "<rich.jupyter.JupyterRenderable at 0x7f954cfa6410>"
      ]
     },
     "metadata": {},
     "output_type": "display_data"
    }
   ],
   "source": [
    "text_map = {\n",
    "    \"1\": \"Hello World!\",\n",
    "    \"2\": \"Hello DHARPA!\"\n",
    "}\n",
    "stopwords = [\n",
    "    \"hello\",\n",
    "    \"!\"\n",
    "]\n",
    "\n",
    "workflow = DharpaWorkflow.from_file(workflow_config)\n",
    "\n",
    "workflow.set_input(\"tokenize_corpus__text_map\", text_map)\n",
    "workflow.set_input(\"lowercase_corpus__enabled\", True)\n",
    "workflow.set_input(\"remove_stopwords_from_corpus__enabled\", True)\n",
    "workflow.set_input(\"remove_stopwords_from_corpus__stopwords_list\", stopwords)\n",
    "\n",
    "# the workflow state is processed automatically, so we can always query the current output\n",
    "output1 = workflow.get_output(\"processed_text_corpus\")\n",
    "print(output1)"
   ]
  },
  {
   "cell_type": "code",
   "execution_count": 9,
   "metadata": {
    "slideshow": {
     "slide_type": "slide"
    }
   },
   "outputs": [
    {
     "data": {
      "application/vnd.jupyter.widget-view+json": {
       "model_id": "eb898d84b9014e3ba5d0791317772f14",
       "version_major": 2,
       "version_minor": 0
      },
      "text/plain": [
       "GridspecLayout(children=(Label(value='tokenize_corpus__text_map', layout=Layout(grid_area='widget001')), Texta…"
      ]
     },
     "metadata": {},
     "output_type": "display_data"
    },
    {
     "data": {
      "application/vnd.jupyter.widget-view+json": {
       "model_id": "f8aa7471161243fb981843cd3d0b743a",
       "version_major": 2,
       "version_minor": 0
      },
      "text/plain": [
       "Output()"
      ]
     },
     "metadata": {},
     "output_type": "display_data"
    }
   ],
   "source": [
    "# text_map: {\"one\": \"Hello World!\", \"two\": \"Hello DHARPA!\"}\n",
    "# stopword_list: hello\n",
    "\n",
    "workflow = DharpaWorkflow.from_file(workflow_config)\n",
    "renderer = PlainJupyterWorkflowRenderer(workflow=workflow)\n",
    "renderer.render()"
   ]
  },
  {
   "cell_type": "code",
   "execution_count": 10,
   "metadata": {
    "slideshow": {
     "slide_type": "slide"
    }
   },
   "outputs": [
    {
     "data": {
      "text/html": [
       "<pre style=\"white-space:pre;overflow-x:auto;line-height:normal;font-family:Menlo,'DejaVu Sans Mono',consolas,'Courier New',monospace\"><span style=\"font-weight: bold\">[</span>\n",
       "    <span style=\"color: #008000\">'corpus_processing'</span>,\n",
       "    <span style=\"color: #008000\">'corpus_processing_simple'</span>,\n",
       "    <span style=\"color: #008000\">'dharpa_workflow'</span>,\n",
       "    <span style=\"color: #008000\">'file_reader'</span>,\n",
       "    <span style=\"color: #008000\">'input_files_processing'</span>,\n",
       "    <span style=\"color: #008000\">'lowercase_corpus'</span>,\n",
       "    <span style=\"color: #008000\">'remove_stopwords_from_corpus'</span>,\n",
       "    <span style=\"color: #008000\">'tokenize_corpus'</span>\n",
       "<span style=\"font-weight: bold\">]</span>\n",
       "</pre>\n"
      ],
      "text/plain": [
       "<rich.jupyter.JupyterRenderable at 0x7f95960aef10>"
      ]
     },
     "metadata": {},
     "output_type": "display_data"
    }
   ],
   "source": [
    "# we can load workflows from json/yaml files on the file-system, and convert them to Python classes\n",
    "load_workflows(f\"{base_path}/workflows\")\n",
    "print(list_available_module_names())"
   ]
  },
  {
   "cell_type": "code",
   "execution_count": 11,
   "metadata": {
    "slideshow": {
     "slide_type": "slide"
    }
   },
   "outputs": [
    {
     "data": {
      "text/html": [
       "<pre style=\"white-space:pre;overflow-x:auto;line-height:normal;font-family:Menlo,'DejaVu Sans Mono',consolas,'Courier New',monospace\"><span style=\"font-weight: bold\">{</span>\n",
       "    <span style=\"color: #008000\">'input_files_processing'</span>: <span style=\"font-weight: bold\">{</span>\n",
       "        <span style=\"color: #008000\">'inputs'</span>: <span style=\"font-weight: bold\">{</span>\n",
       "            <span style=\"color: #008000\">'files'</span>: <span style=\"color: #008000\">'Any'</span>,\n",
       "            <span style=\"color: #008000\">'make_lowercase'</span>: <span style=\"color: #008000\">'Bool'</span>,\n",
       "            <span style=\"color: #008000\">'remove_stopwords'</span>: <span style=\"color: #008000\">'Bool'</span>,\n",
       "            <span style=\"color: #008000\">'stopwords'</span>: <span style=\"color: #008000\">'List'</span>\n",
       "        <span style=\"font-weight: bold\">}</span>,\n",
       "        <span style=\"color: #008000\">'outputs'</span>: <span style=\"font-weight: bold\">{</span><span style=\"color: #008000\">'processed_text_corpus'</span>: <span style=\"color: #008000\">'Dict'</span><span style=\"font-weight: bold\">}</span>\n",
       "    <span style=\"font-weight: bold\">}</span>\n",
       "<span style=\"font-weight: bold\">}</span>\n",
       "</pre>\n"
      ],
      "text/plain": [
       "<rich.jupyter.JupyterRenderable at 0x7f954d129490>"
      ]
     },
     "metadata": {},
     "output_type": "display_data"
    }
   ],
   "source": [
    "# display the module spec for the 'input_files_processing' workflow\n",
    "print_module_desc(\"input_files_processing\")"
   ]
  },
  {
   "cell_type": "code",
   "execution_count": 12,
   "metadata": {
    "slideshow": {
     "slide_type": "slide"
    }
   },
   "outputs": [
    {
     "data": {
      "text/html": [
       "<pre style=\"white-space:pre;overflow-x:auto;line-height:normal;font-family:Menlo,'DejaVu Sans Mono',consolas,'Courier New',monospace\"><span style=\"font-weight: bold\">{</span>\n",
       "    <span style=\"color: #008000\">'modules'</span>: <span style=\"font-weight: bold\">[</span>\n",
       "        <span style=\"font-weight: bold\">{</span>\n",
       "            <span style=\"color: #008000\">'type'</span>: <span style=\"color: #008000\">'file_reader'</span>,\n",
       "            <span style=\"color: #008000\">'input_map'</span>: <span style=\"font-weight: bold\">{</span><span style=\"color: #008000\">'files'</span>: <span style=\"color: #008000\">'__workflow_input__.files'</span><span style=\"font-weight: bold\">}</span>,\n",
       "            <span style=\"color: #008000\">'id'</span>: <span style=\"color: #008000\">'file_reader'</span>\n",
       "        <span style=\"font-weight: bold\">}</span>,\n",
       "        <span style=\"font-weight: bold\">{</span>\n",
       "            <span style=\"color: #008000\">'type'</span>: <span style=\"color: #008000\">'corpus_processing'</span>,\n",
       "            <span style=\"color: #008000\">'input_map'</span>: <span style=\"font-weight: bold\">{</span>\n",
       "                <span style=\"color: #008000\">'text_map'</span>: <span style=\"color: #008000\">'file_reader.content_map'</span>,\n",
       "                <span style=\"color: #008000\">'make_lowercase'</span>: <span style=\"color: #008000\">'__workflow_input__.make_lowercase'</span>,\n",
       "                <span style=\"color: #008000\">'remove_stopwords'</span>: <span style=\"color: #008000\">'__workflow_input__.remove_stopwords'</span>,\n",
       "                <span style=\"color: #008000\">'stopwords'</span>: <span style=\"color: #008000\">'__workflow_input__.stopwords'</span>\n",
       "            <span style=\"font-weight: bold\">}</span>,\n",
       "            <span style=\"color: #008000\">'workflow_outputs'</span>: <span style=\"font-weight: bold\">{</span><span style=\"color: #008000\">'processed_text_corpus'</span>: <span style=\"color: #008000\">'processed_text_corpus'</span><span style=\"font-weight: bold\">}</span>,\n",
       "            <span style=\"color: #008000\">'id'</span>: <span style=\"color: #008000\">'corpus_processing'</span>\n",
       "        <span style=\"font-weight: bold\">}</span>\n",
       "    <span style=\"font-weight: bold\">]</span>\n",
       "<span style=\"font-weight: bold\">}</span>\n",
       "</pre>\n"
      ],
      "text/plain": [
       "<rich.jupyter.JupyterRenderable at 0x7f954cf91190>"
      ]
     },
     "metadata": {},
     "output_type": "display_data"
    }
   ],
   "source": [
    "# create the workflow object\n",
    "ifp_workflow = create_workflow('input_files_processing')\n",
    "# display the internal structure of the workflow\n",
    "print(ifp_workflow._workflow_config)"
   ]
  },
  {
   "cell_type": "code",
   "execution_count": 13,
   "metadata": {
    "slideshow": {
     "slide_type": "slide"
    }
   },
   "outputs": [
    {
     "data": {
      "image/png": "[encoded data removed]",
      "text/plain": [
       "<IPython.core.display.Image object>"
      ]
     },
     "execution_count": 13,
     "metadata": {},
     "output_type": "execute_result"
    }
   ],
   "source": [
    "# display the execution graph for the workflow\n",
    "graph_to_image(ifp_workflow.execution_graph)\n",
    "# graph_to_image(ifp_workflow.data_flow_graph)"
   ]
  },
  {
   "cell_type": "code",
   "execution_count": 14,
   "metadata": {
    "slideshow": {
     "slide_type": "slide"
    }
   },
   "outputs": [
    {
     "data": {
      "application/vnd.jupyter.widget-view+json": {
       "model_id": "66541c9631444836b5a12048e1edc285",
       "version_major": 2,
       "version_minor": 0
      },
      "text/plain": [
       "GridspecLayout(children=(Label(value='files', layout=Layout(grid_area='widget001')), FileUpload(value={}, desc…"
      ]
     },
     "metadata": {},
     "output_type": "display_data"
    },
    {
     "data": {
      "application/vnd.jupyter.widget-view+json": {
       "model_id": "87cecf1e619c4293a85e2b6dbc243672",
       "version_major": 2,
       "version_minor": 0
      },
      "text/plain": [
       "Output()"
      ]
     },
     "metadata": {},
     "output_type": "display_data"
    }
   ],
   "source": [
    "# auto-render input and output-widgets for the workflow (only works when executed in Jupyter)\n",
    "renderer = PlainJupyterWorkflowRenderer(workflow=ifp_workflow)\n",
    "renderer.render()"
   ]
  }
 ],
 "metadata": {
  "celltoolbar": "Slideshow",
  "kernelspec": {
   "display_name": "Python 3",
   "language": "python",
   "name": "python3"
  },
  "language_info": {
   "codemirror_mode": {
    "name": "ipython",
    "version": 3
   },
   "file_extension": ".py",
   "mimetype": "text/x-python",
   "name": "python",
   "nbconvert_exporter": "python",
   "pygments_lexer": "ipython3",
   "version": "3.7.9"
  }
 },
 "nbformat": 4,
 "nbformat_minor": 1
}
