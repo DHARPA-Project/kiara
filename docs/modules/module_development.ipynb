{
 "cells": [
  {
   "cell_type": "markdown",
   "metadata": {
    "collapsed": true,
    "pycharm": {
     "name": "#%% md\n"
    }
   },
   "source": [
    "# Developing *kiara* modules\n",
    "\n",
    "This page will show you how to create your own *kiara* modules. It's early days still, so the way this is done\n",
    "currently is not as pythonic, user-friendly and easy as I hope it will eventually be. I do hope it is easy enough\n",
    "for everyone with a bit of Python experience to be able to create their own, simple modules, though.\n",
    "\n",
    "## (Optional) Create a project structure\n",
    "\n",
    "*kiara* modules live in Python packages. Although technically it would be possible to just use Python files,\n",
    "this is not supported for now, possibly ever. The main reason for that is that it is very important to be\n",
    "able to pinpoint the exact version of a module that was used to create/transform some data. Python packages\n",
    "can be versioned (as well as their dependencies) relatively easy, in a generic way. Simple scripts can't,\n",
    "at least not to the extend we need.\n",
    "\n",
    "Creating Python packages correctly is not trivial, which is why I created a [project template](https://github.com/DHARPA-Project/kiara_modules.project_template) that includes\n",
    "all the necessary bits and integrations to make this as painless as possible."
   ]
  }
 ],
 "metadata": {
  "kernelspec": {
   "display_name": "Python 3",
   "language": "python",
   "name": "python3"
  },
  "language_info": {
   "codemirror_mode": {
    "name": "ipython",
    "version": 2
   },
   "file_extension": ".py",
   "mimetype": "text/x-python",
   "name": "python",
   "nbconvert_exporter": "python",
   "pygments_lexer": "ipython2",
   "version": "2.7.6"
  }
 },
 "nbformat": 4,
 "nbformat_minor": 0
}
